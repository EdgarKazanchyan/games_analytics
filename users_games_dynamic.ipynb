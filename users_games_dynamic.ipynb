{
 "cells": [
  {
   "cell_type": "markdown",
   "metadata": {
    "id": "lEmlVutLvJZ-"
   },
   "source": [
    "#Данный скрипт позволяет изучать динамику количества игр, устанавливаемых каждым игроком. Т.е. можно узнать, сколько игр установил каждый игрок в тот или иной месяц, а также суммарное количество установленных к данному месяцу игр."
   ]
  },
  {
   "cell_type": "code",
   "execution_count": null,
   "metadata": {
    "id": "LIKPHNZP09gJ"
   },
   "outputs": [],
   "source": [
    "import pandas as pd\n",
    "import numpy as np\n",
    "from datetime import timedelta, date\n",
    "import datetime\n",
    "import warnings\n",
    "warnings.simplefilter('ignore')"
   ]
  },
  {
   "cell_type": "code",
   "execution_count": null,
   "metadata": {
    "colab": {
     "base_uri": "https://localhost:8080/"
    },
    "id": "YTK4JqLsVrxI",
    "outputId": "32e21a8d-af83-4f2b-db1a-b4df28c24e89"
   },
   "outputs": [],
   "source": [
    "!pip install clickhouse_driver"
   ]
  },
  {
   "cell_type": "code",
   "execution_count": null,
   "metadata": {
    "id": "-4mfGPyCSTsN"
   },
   "outputs": [],
   "source": [
    "from sqlalchemy import create_engine\n",
    "from clickhouse_driver import Client\n",
    "from sqlalchemy.exc import IntegrityError\n",
    "client = Client(host='', port='', user='', password='', database='')\n",
    "engine = create_engine('')"
   ]
  },
  {
   "cell_type": "code",
   "execution_count": null,
   "metadata": {
    "colab": {
     "base_uri": "https://localhost:8080/"
    },
    "id": "lyfHBX2dBcej",
    "outputId": "31350d8b-dfb3-400e-adf7-f8f5f5a644b5"
   },
   "outputs": [
    {
     "name": "stdout",
     "output_type": "stream",
     "text": [
      "версия pandas: 1.1.5\n",
      "версия numpy: 1.19.5\n",
      "версия scipy: 1.4.1\n"
     ]
    }
   ],
   "source": [
    "print(f'версия pandas: {pd.__version__}')\n",
    "print(f'версия numpy: {np.__version__}')\n",
    "print(f'версия scipy: {scipy.__version__}')"
   ]
  },
  {
   "cell_type": "markdown",
   "metadata": {
    "id": "6C4f3XLlr2w3"
   },
   "source": [
    "## Функции для выгрузки данных"
   ]
  },
  {
   "cell_type": "code",
   "execution_count": null,
   "metadata": {
    "id": "PqsAIURnr2w4"
   },
   "outputs": [],
   "source": [
    "def min_timestamp_upload(platform):\n",
    "\n",
    "  \"\"\"Позволяет выгрузить данные о самом первом инсталле для каждого advertising_id.\n",
    "  \n",
    "  Paramters:\n",
    "  ----------\n",
    "  platform: str, in ['ios', 'android']\n",
    "    Название платформы.\n",
    "  \n",
    "  Returns:\n",
    "  -------\n",
    "  min_timestamp_data: dataframe.\n",
    "    Датафрейм со временем самой первой установки для каждого advertising_id.\"\"\"\n",
    "  sql_query = f\"\"\"select min(user_first_touch_timestamp), \n",
    "                    JSONExtractString(device, 'advertising_id')\n",
    "                    from {platform}1\n",
    "                    where length(JSONExtractString(device, 'advertising_id')) > 10\n",
    "                    group by JSONExtractString(device, 'advertising_id')\n",
    "                union all\n",
    "                select min(user_first_touch_timestamp), \n",
    "                    JSONExtractString(device, 'advertising_id')\n",
    "                    from {platform}2\n",
    "                    where length(JSONExtractString(device, 'advertising_id')) > 10\n",
    "                    group by JSONExtractString(device, 'advertising_id')      \n",
    "  \"\"\"\n",
    "  #т.к. платформе android соответствуют 3 таблицы (android1, android2, android3),\n",
    "  # то добавим третью таблицу к запросу\n",
    "  if platform == 'android':\n",
    "    add_query = \"\"\"union all\n",
    "                select min(user_first_touch_timestamp), \n",
    "                    JSONExtractString(device, 'advertising_id')\n",
    "                    from android3\n",
    "                    where length(JSONExtractString(device, 'advertising_id')) > 10\n",
    "                    group by JSONExtractString(device, 'advertising_id')\"\"\"\n",
    "    sql_query += add_query\n",
    "\n",
    "  result, columns = client.execute(sql_query, with_column_types=True)\n",
    "  min_timestamp_data = pd.DataFrame(result, columns=[tuple[0] for tuple in columns])\n",
    "\n",
    "  return min_timestamp_data"
   ]
  },
  {
   "cell_type": "code",
   "execution_count": null,
   "metadata": {
    "id": "ZZAGs-3hr2w4"
   },
   "outputs": [],
   "source": [
    "def main_data_upload(platform,  games_type, month, year):\n",
    "  \"\"\"Выгрузка основных данных.\n",
    "  \n",
    "  Paramters:\n",
    "  ---------\n",
    "  platform: str, in ['ios', 'android']\n",
    "  games_type: str, in ['free2play', 'premium']\n",
    "  month, year: int\n",
    "    Месяц и год, для которых делается выгрузка данных.\n",
    "  \n",
    "  Returns:\n",
    "  -------\n",
    "  main_data: dataframe\n",
    "    Датафрейм с данными о количестве установок у каждого пользователя\n",
    "    за месяц month и год year для платформы platform и типа игры games_type.\"\"\"\n",
    "  \n",
    "  assert platform in ['android', 'ios'], f\"\"\"Вы указали название платформы '{platform}'', а надо либо 'ios' либо 'android'\"\"\"\n",
    "  assert games_type in ['free2play', 'premium', 'all'], f\"\"\"Вы указали тип игр '{games_type}'', а надо либо 'free2play' либо 'premium' либо 'all'\"\"\"\n",
    "  \n",
    "  # укажем дополнительную часть запроса sql, которая нужна будет для выбора типа игры (free2play, premium)\n",
    "  if games_type == 'free2play':\n",
    "    sql_games_type_add = \"\"\" and app_info__id like '%free2play%'\"\"\"\n",
    "  elif games_type == 'premium':\n",
    "    sql_games_type_add = \"\"\" and app_info__id not like '%free2play%'\"\"\"\n",
    "  elif games_type == 'all':\n",
    "    sql_games_type_add = ''\n",
    "\n",
    "  sql_query = f\"\"\"select JSONExtractString(device, 'advertising_id') as advertising_id, toYear(event_date), toMonth(event_date),\n",
    "          count(distinct(app_info__id)) as games, max(event_date) as last_activity\n",
    "          from {platform}1 \n",
    "          where event_date > '2020-02-01'\n",
    "            and toMonth(event_date) == {month} and toYear(event_date) == {year}\n",
    "            and length(JSONExtractString(device, 'advertising_id')) > 10\n",
    "            and toMonth(user_first_touch_timestamp) == toMonth(event_date){sql_games_type_add} \n",
    "          group by JSONExtractString(device, 'advertising_id'), toYear(event_date), toMonth(event_date)\n",
    "          union all\n",
    "          select JSONExtractString(device, 'advertising_id') as advertising_id, toYear(event_date), toMonth(event_date),\n",
    "          count(distinct(app_info__id)) as games, max(event_date) as last_activity\n",
    "          from {platform}2\n",
    "          where event_date > '2020-02-01'\n",
    "            and toMonth(event_date) == {month} and toYear(event_date) == {year}\n",
    "            and length(JSONExtractString(device, 'advertising_id')) > 10\n",
    "            and toMonth(user_first_touch_timestamp) == toMonth(event_date){sql_games_type_add} \n",
    "          group by JSONExtractString(device, 'advertising_id'), toYear(event_date), toMonth(event_date)\n",
    "          \"\"\"\n",
    "  #т.к. платформе android соответствуют 3 таблицы (android1, android2, android3),\n",
    "  # то добавим третью таблицу к запросу\n",
    "  if platform == 'android':\n",
    "    add_query = f\"\"\"union all\n",
    "          select JSONExtractString(device, 'advertising_id') as advertising_id, toYear(event_date), toMonth(event_date),\n",
    "          count(distinct(app_info__id)) as games, max(event_date) as last_activity\n",
    "          from android3 \n",
    "          where event_date > '2020-02-01'\n",
    "           and toMonth(event_date) == {month} and toYear(event_date) == {year}\n",
    "           and length(JSONExtractString(device, 'advertising_id')) > 10\n",
    "           and toMonth(user_first_touch_timestamp) == toMonth(event_date){sql_games_type_add} \n",
    "          group by JSONExtractString(device, 'advertising_id'), toYear(event_date), toMonth(event_date)\"\"\"\n",
    "    sql_query += add_query\n",
    "  result, columns = client.execute(sql_query, with_column_types=True)\n",
    "  main_data = pd.DataFrame(result, columns=[tuple[0] for tuple in columns])\n",
    "\n",
    "  return main_data"
   ]
  },
  {
   "cell_type": "markdown",
   "metadata": {
    "id": "--d2AlhlSPWw"
   },
   "source": [
    "##Функции для работы с данными"
   ]
  },
  {
   "cell_type": "code",
   "execution_count": null,
   "metadata": {
    "id": "85jHmvbZ331K"
   },
   "outputs": [],
   "source": [
    "def preprocessing_data(main_data, platform, games_type, cumulative=False):\n",
    "  \"\"\"Предобаботка данных. Включает предобработку некоторых полей и добавление\n",
    "  нескольких новых полей.\n",
    "   \n",
    "   Paramters:\n",
    "   --------\n",
    "   main_data: dataframe\n",
    "    Данные, выгруженные из базы данных при помощи функции \n",
    "    main_data_upload\n",
    "  platform: str, in ['ios', 'android']\n",
    "  games_type: str, in ['free2play', 'premium']\n",
    "  cumulaive: bool\n",
    "    Данный параметр позволяет получить суммарное количество игр у игрока, \n",
    "    которые он установил к моменту month, year. Для автоматизации\n",
    "    расчётов пока данный параметр не используется.\n",
    "    \n",
    "    Returns:\n",
    "    --------\n",
    "    need_data: pd.DataFrame.\n",
    "      Датафрейм с данными о количестве установок у каждого пользователя\n",
    "      за месяц month и год year для платформы platform и типа игры games_type. \n",
    "      Отличается от датафрейма, выдаваемого функцией main_data_upload тем, \n",
    "      что здесь для каждого игрока уже сложена информация, собранная из \n",
    "      разных таблиц (android1, android2 и т.д.). Также, испольуя эту функцию \n",
    "      можно получить и суммарное количество установленных к данному месяцу игр у\n",
    "      каждого игрока. \n",
    "    \"\"\"\n",
    "\n",
    "  #предобработка полей\n",
    "  need_data = main_data.copy(deep=True)\n",
    "  need_data.columns = ['advertising_id', 'active_year', 'active_month', 'games', 'last_activity']\n",
    "  need_data.last_activity = pd.to_datetime(need_data.last_activity)\n",
    "\n",
    "  # сложим количество игр из разных таблиц (android1, android2, android3 или ios1, ios2) для каждого игрока\n",
    "  need_data = need_data.groupby(['advertising_id', 'active_year', 'active_month'], as_index=False)\\\n",
    "                             .agg({'games': 'sum', 'last_activity': 'max'})\n",
    "  need_data = need_data.sort_values(by=['advertising_id', 'active_year', 'active_month'])\n",
    "\n",
    "  if cumulative:\n",
    "    # для каждого игрока и данного месяца получим суммарное количество установленных у этого игрока игр к этому месяцу\n",
    "    need_cum_data = need_data.iloc[:, [0, 1, 2, 3]].groupby(['advertising_id', 'active_year', 'active_month']).sum() \\\n",
    "         .groupby(level=0).cumsum().reset_index()\n",
    "\n",
    "    return need_cum_data\n",
    "    #сразу же добавим поля с пометками о платформе, типе игры, месяце и годе\n",
    "  need_data['platform'] = platform\n",
    "  need_data['games_type'] = games_type\n",
    "  return need_data"
   ]
  },
  {
   "cell_type": "code",
   "execution_count": null,
   "metadata": {
    "id": "ugPkr23cfEoj"
   },
   "outputs": [],
   "source": [
    "def add_columns(data):\n",
    "  \"\"\"Позволяет добавить поле rate к предобработанным при помощи функции \n",
    "  preprocessing_data данным.\n",
    "  \n",
    "  Paramters:\n",
    "  ---------\n",
    "  data: dataframe\n",
    "    Датафрейм, вышедший из фукнции preprocessing_data\"\"\"\n",
    "    \n",
    "  need_data = data.groupby(['games', 'active_year', 'active_month', 'platform', 'games_type'], as_index=False)\\\n",
    "                                  .agg({'advertising_id': 'nunique'})\n",
    "\n",
    "  need_data['rate'] = round(need_data.advertising_id / need_data.advertising_id.sum() * 100, 1)\n",
    "  \n",
    "  need_data.rename(columns={'advertising_id': 'number_of_users'}, inplace=True)\n",
    "\n",
    "  return need_data"
   ]
  },
  {
   "cell_type": "code",
   "execution_count": null,
   "metadata": {
    "id": "aVPc45dgr2w7"
   },
   "outputs": [],
   "source": [
    "def main(year,month):\n",
    "  \"\"\"Основная функция, которую нужно запустить, чтобы она\n",
    "  выгрузила данные из базы данных, провела расчёты и загрузила в \n",
    "  таблицу users_games_dynamic необходимые данные о количестве игр у одного игрока.\n",
    "  \n",
    "  Paramters: \n",
    "  ----------\n",
    "  year, month: int.\n",
    "   Год и месяц, для которых необходимо провести расчёты\n",
    "   \n",
    "  Returns:\n",
    "  --------\n",
    "  result_df: pd.DataFrame\n",
    "    Та же таблица, которую данная функция загружает на сервер.\n",
    "    \"\"\"\n",
    "   \n",
    "  platforms_list = ['ios', 'android']\n",
    "  games_type_list = ['free2play', 'premium']\n",
    "\n",
    "  #создадим датафрейм, в который будем помещать все данные\n",
    "  result_df = pd.DataFrame(columns=['games', 'active_year', 'active_month', 'platform',\n",
    "                                       'games_type', 'number_of_users', 'rate'])\n",
    "  #пробежимся по каждой платформе и каждому типу игры, выгрузим и предобработаем данные и \n",
    "  #добавим в датафрейм result_df\n",
    "  for platform in platforms_list:\n",
    "    for games_type in games_type_list:\n",
    "      #будем сразу выгружать, предобрабатывать и добавлять поле rate\n",
    "      data = add_columns(preprocessing_data(main_data_upload(platform, games_type, month, year), platform, games_type))\n",
    "      result_df = result_df.append(data)\n",
    "  result_df.columns = ['games', 'activity_year', 'activity_month', 'platform', 'games_type', 'number_of_users', 'rate']\n",
    "  result_df = result_df.loc[:, ['platform', 'games_type', 'activity_year', 'activity_month', 'games', 'number_of_users', 'rate']]\n",
    "\n",
    "  #добавим данные из датафрейма result_df в таблицу  users_games_dynamic\n",
    "  try:\n",
    "    result_df.to_sql('users_games_dynamic', engine, if_exists='append', index=False)\n",
    "  except IntegrityError as error:\n",
    "    print('Вы пытаетесь добавить в таблицу данные, нарушающие ограничения первичного ключа')\n",
    "    print(error)\n",
    "  return result_df"
   ]
  }
 ],
 "metadata": {
  "colab": {
   "collapsed_sections": [],
   "name": "users_games_dynamic.ipynb",
   "provenance": [],
   "toc_visible": true
  },
  "kernelspec": {
   "display_name": "Python 3 (ipykernel)",
   "language": "python",
   "name": "python3"
  },
  "language_info": {
   "codemirror_mode": {
    "name": "ipython",
    "version": 3
   },
   "file_extension": ".py",
   "mimetype": "text/x-python",
   "name": "python",
   "nbconvert_exporter": "python",
   "pygments_lexer": "ipython3",
   "version": "3.8.10"
  }
 },
 "nbformat": 4,
 "nbformat_minor": 1
}
